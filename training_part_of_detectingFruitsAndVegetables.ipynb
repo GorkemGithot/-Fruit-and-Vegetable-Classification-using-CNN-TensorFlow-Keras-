{
  "cells": [
    {
      "cell_type": "markdown",
      "metadata": {
        "id": "WssGDbgiRfB5"
      },
      "source": [
        "Importing Dataset"
      ]
    },
    {
      "cell_type": "code",
      "execution_count": null,
      "metadata": {
        "colab": {
          "base_uri": "https://localhost:8080/"
        },
        "id": "7RGYWKI_ReZe",
        "outputId": "43593e9c-afe5-44c4-eae4-4a3eb5a16642"
      },
      "outputs": [
        {
          "name": "stdout",
          "output_type": "stream",
          "text": [
            "Drive already mounted at /content/drive; to attempt to forcibly remount, call drive.mount(\"/content/drive\", force_remount=True).\n"
          ]
        }
      ],
      "source": [
        "from google.colab import drive\n",
        "drive.mount(\"/content/drive\")"
      ]
    },
    {
      "cell_type": "markdown",
      "metadata": {
        "id": "3VlmCeG8R0iF"
      },
      "source": [
        "Importing Libraries"
      ]
    },
    {
      "cell_type": "code",
      "execution_count": null,
      "metadata": {
        "id": "Sx1XwVFyR0Jk"
      },
      "outputs": [],
      "source": [
        "import numpy as np\n",
        "import tensorflow as tf\n",
        "import matplotlib.pyplot as plt"
      ]
    },
    {
      "cell_type": "markdown",
      "metadata": {
        "id": "AKVCmXZeSBnO"
      },
      "source": [
        "### Data Preprocessing"
      ]
    },
    {
      "cell_type": "code",
      "execution_count": null,
      "metadata": {
        "colab": {
          "base_uri": "https://localhost:8080/"
        },
        "id": "c_NR-HcbSEFL",
        "outputId": "5133cc73-67ea-4255-bee9-1dcd278d7a41"
      },
      "outputs": [
        {
          "name": "stdout",
          "output_type": "stream",
          "text": [
            "Found 3115 files belonging to 36 classes.\n"
          ]
        }
      ],
      "source": [
        "training_set=tf.keras.utils.image_dataset_from_directory(\n",
        "    \"/content/drive/MyDrive/dataset/train\",\n",
        "    labels=\"inferred\",\n",
        "    label_mode=\"categorical\",\n",
        "    class_names=None,\n",
        "    color_mode=\"rgb\",\n",
        "    batch_size=32,\n",
        "    image_size=(64, 64),\n",
        "    shuffle=True,\n",
        "    seed=None,\n",
        "    validation_split=None,\n",
        "    subset=None,\n",
        "    interpolation=\"bilinear\",\n",
        "    follow_links=False,\n",
        "    crop_to_aspect_ratio=False,\n",
        "\n",
        ")\n",
        "\n",
        "\n",
        "\n",
        "\n"
      ]
    },
    {
      "cell_type": "code",
      "execution_count": null,
      "metadata": {
        "colab": {
          "base_uri": "https://localhost:8080/"
        },
        "id": "tfq_UkPYejyZ",
        "outputId": "0e8866e9-4f14-4c32-eaf7-38b077b33c15"
      },
      "outputs": [
        {
          "name": "stdout",
          "output_type": "stream",
          "text": [
            "Found 351 files belonging to 36 classes.\n"
          ]
        }
      ],
      "source": [
        "validation_set=tf.keras.utils.image_dataset_from_directory(\n",
        "    \"/content/drive/MyDrive/dataset/validation\",\n",
        "    labels=\"inferred\",\n",
        "    label_mode=\"categorical\",\n",
        "    class_names=None,\n",
        "    color_mode=\"rgb\",\n",
        "    batch_size=32,\n",
        "    image_size=(64, 64),\n",
        "    shuffle=True,\n",
        "    seed=None,\n",
        "    validation_split=None,\n",
        "    subset=None,\n",
        "    interpolation=\"bilinear\",\n",
        "    follow_links=False,\n",
        "    crop_to_aspect_ratio=False,\n",
        "\n",
        ")\n"
      ]
    },
    {
      "cell_type": "code",
      "execution_count": null,
      "metadata": {
        "id": "hLDbMF-2OLiT"
      },
      "outputs": [],
      "source": [
        "normalization_layer = tf.keras.layers.Rescaling(1./255)\n",
        "training_set = training_set.map(lambda x, y: (normalization_layer(x), y))\n",
        "validation_set = validation_set.map(lambda x, y: (normalization_layer(x), y))\n"
      ]
    },
    {
      "cell_type": "code",
      "execution_count": null,
      "metadata": {
        "id": "jKlvIo-xwSOr"
      },
      "outputs": [],
      "source": [
        "cnn=tf.keras.models.Sequential()\n"
      ]
    },
    {
      "cell_type": "markdown",
      "metadata": {
        "id": "cHOc-iyHwtFk"
      },
      "source": [
        "Building CNN2D(filter size =3x3,rgb üzerinde important featureları çıkarıyoruz.)"
      ]
    },
    {
      "cell_type": "code",
      "execution_count": null,
      "metadata": {
        "id": "kFpGfRe-wwei"
      },
      "outputs": [],
      "source": [
        "cnn.add(tf.keras.layers.Conv2D(filters=64, kernel_size=3, activation='relu', input_shape=[64, 64, 3]))\n",
        "cnn.add(tf.keras.layers.MaxPool2D(pool_size=2, strides=2))"
      ]
    },
    {
      "cell_type": "code",
      "execution_count": null,
      "metadata": {
        "id": "AEAU7FsfywU_"
      },
      "outputs": [],
      "source": [
        "cnn.add(tf.keras.layers.Dropout(0.5)) # to avoid overfitting"
      ]
    },
    {
      "cell_type": "code",
      "execution_count": null,
      "metadata": {
        "id": "fncu0GUtz10B"
      },
      "outputs": [],
      "source": [
        "cnn.add(tf.keras.layers.Flatten())\n",
        "cnn.add(tf.keras.layers.Dense(units=128, activation='relu'))\n",
        "cnn.add(tf.keras.layers.Dense(units=36, activation='softmax'))#36 tane output classımız(label) var dolayısıyla fc katmanı 36 nöronlu olmak zorunda"
      ]
    },
    {
      "cell_type": "markdown",
      "metadata": {
        "id": "pGNx4IDm144R"
      },
      "source": [
        "COMPILING AND TRAINING PHASE"
      ]
    },
    {
      "cell_type": "code",
      "execution_count": null,
      "metadata": {
        "colab": {
          "base_uri": "https://localhost:8080/"
        },
        "id": "0Pd-ialr0lSd",
        "outputId": "f4e616fa-d50b-44a1-c5e7-45e051996cfc"
      },
      "outputs": [
        {
          "name": "stdout",
          "output_type": "stream",
          "text": [
            "Epoch 1/30\n",
            "\u001b[1m98/98\u001b[0m \u001b[32m━━━━━━━━━━━━━━━━━━━━\u001b[0m\u001b[37m\u001b[0m \u001b[1m118s\u001b[0m 1s/step - accuracy: 0.0654 - loss: 3.6060 - val_accuracy: 0.3077 - val_loss: 2.5455\n",
            "Epoch 2/30\n",
            "\u001b[1m98/98\u001b[0m \u001b[32m━━━━━━━━━━━━━━━━━━━━\u001b[0m\u001b[37m\u001b[0m \u001b[1m100s\u001b[0m 1s/step - accuracy: 0.2513 - loss: 2.5792 - val_accuracy: 0.6467 - val_loss: 1.4551\n",
            "Epoch 3/30\n",
            "\u001b[1m98/98\u001b[0m \u001b[32m━━━━━━━━━━━━━━━━━━━━\u001b[0m\u001b[37m\u001b[0m \u001b[1m155s\u001b[0m 1s/step - accuracy: 0.4853 - loss: 1.8361 - val_accuracy: 0.7607 - val_loss: 1.0285\n",
            "Epoch 4/30\n",
            "\u001b[1m98/98\u001b[0m \u001b[32m━━━━━━━━━━━━━━━━━━━━\u001b[0m\u001b[37m\u001b[0m \u001b[1m140s\u001b[0m 1s/step - accuracy: 0.6406 - loss: 1.3540 - val_accuracy: 0.8718 - val_loss: 0.5815\n",
            "Epoch 5/30\n",
            "\u001b[1m98/98\u001b[0m \u001b[32m━━━━━━━━━━━━━━━━━━━━\u001b[0m\u001b[37m\u001b[0m \u001b[1m149s\u001b[0m 1s/step - accuracy: 0.7949 - loss: 0.8451 - val_accuracy: 0.9288 - val_loss: 0.4025\n",
            "Epoch 6/30\n",
            "\u001b[1m98/98\u001b[0m \u001b[32m━━━━━━━━━━━━━━━━━━━━\u001b[0m\u001b[37m\u001b[0m \u001b[1m125s\u001b[0m 1s/step - accuracy: 0.8718 - loss: 0.5347 - val_accuracy: 0.9487 - val_loss: 0.3078\n",
            "Epoch 7/30\n",
            "\u001b[1m98/98\u001b[0m \u001b[32m━━━━━━━━━━━━━━━━━━━━\u001b[0m\u001b[37m\u001b[0m \u001b[1m139s\u001b[0m 1s/step - accuracy: 0.9226 - loss: 0.3581 - val_accuracy: 0.9573 - val_loss: 0.2710\n",
            "Epoch 8/30\n",
            "\u001b[1m98/98\u001b[0m \u001b[32m━━━━━━━━━━━━━━━━━━━━\u001b[0m\u001b[37m\u001b[0m \u001b[1m154s\u001b[0m 1s/step - accuracy: 0.9546 - loss: 0.2120 - val_accuracy: 0.9345 - val_loss: 0.2887\n",
            "Epoch 9/30\n",
            "\u001b[1m98/98\u001b[0m \u001b[32m━━━━━━━━━━━━━━━━━━━━\u001b[0m\u001b[37m\u001b[0m \u001b[1m105s\u001b[0m 1s/step - accuracy: 0.9739 - loss: 0.1521 - val_accuracy: 0.9487 - val_loss: 0.2231\n",
            "Epoch 10/30\n",
            "\u001b[1m98/98\u001b[0m \u001b[32m━━━━━━━━━━━━━━━━━━━━\u001b[0m\u001b[37m\u001b[0m \u001b[1m105s\u001b[0m 1s/step - accuracy: 0.9773 - loss: 0.1279 - val_accuracy: 0.9573 - val_loss: 0.2331\n",
            "Epoch 11/30\n",
            "\u001b[1m98/98\u001b[0m \u001b[32m━━━━━━━━━━━━━━━━━━━━\u001b[0m\u001b[37m\u001b[0m \u001b[1m146s\u001b[0m 1s/step - accuracy: 0.9889 - loss: 0.0897 - val_accuracy: 0.9601 - val_loss: 0.2370\n",
            "Epoch 12/30\n",
            "\u001b[1m98/98\u001b[0m \u001b[32m━━━━━━━━━━━━━━━━━━━━\u001b[0m\u001b[37m\u001b[0m \u001b[1m99s\u001b[0m 1s/step - accuracy: 0.9858 - loss: 0.0750 - val_accuracy: 0.9544 - val_loss: 0.2410\n",
            "Epoch 13/30\n",
            "\u001b[1m98/98\u001b[0m \u001b[32m━━━━━━━━━━━━━━━━━━━━\u001b[0m\u001b[37m\u001b[0m \u001b[1m109s\u001b[0m 1s/step - accuracy: 0.9834 - loss: 0.0799 - val_accuracy: 0.9573 - val_loss: 0.2702\n",
            "Epoch 14/30\n",
            "\u001b[1m98/98\u001b[0m \u001b[32m━━━━━━━━━━━━━━━━━━━━\u001b[0m\u001b[37m\u001b[0m \u001b[1m132s\u001b[0m 1s/step - accuracy: 0.9864 - loss: 0.0751 - val_accuracy: 0.9544 - val_loss: 0.2358\n",
            "Epoch 15/30\n",
            "\u001b[1m98/98\u001b[0m \u001b[32m━━━━━━━━━━━━━━━━━━━━\u001b[0m\u001b[37m\u001b[0m \u001b[1m155s\u001b[0m 1s/step - accuracy: 0.9869 - loss: 0.0827 - val_accuracy: 0.9544 - val_loss: 0.2701\n",
            "Epoch 16/30\n",
            "\u001b[1m98/98\u001b[0m \u001b[32m━━━━━━━━━━━━━━━━━━━━\u001b[0m\u001b[37m\u001b[0m \u001b[1m108s\u001b[0m 1s/step - accuracy: 0.9880 - loss: 0.0688 - val_accuracy: 0.9601 - val_loss: 0.2432\n",
            "Epoch 17/30\n",
            "\u001b[1m98/98\u001b[0m \u001b[32m━━━━━━━━━━━━━━━━━━━━\u001b[0m\u001b[37m\u001b[0m \u001b[1m134s\u001b[0m 1s/step - accuracy: 0.9882 - loss: 0.0669 - val_accuracy: 0.9544 - val_loss: 0.2843\n",
            "Epoch 18/30\n",
            "\u001b[1m98/98\u001b[0m \u001b[32m━━━━━━━━━━━━━━━━━━━━\u001b[0m\u001b[37m\u001b[0m \u001b[1m139s\u001b[0m 996ms/step - accuracy: 0.9891 - loss: 0.0643 - val_accuracy: 0.9573 - val_loss: 0.2595\n",
            "Epoch 19/30\n",
            "\u001b[1m98/98\u001b[0m \u001b[32m━━━━━━━━━━━━━━━━━━━━\u001b[0m\u001b[37m\u001b[0m \u001b[1m108s\u001b[0m 1s/step - accuracy: 0.9876 - loss: 0.0624 - val_accuracy: 0.9544 - val_loss: 0.2715\n",
            "Epoch 20/30\n",
            "\u001b[1m98/98\u001b[0m \u001b[32m━━━━━━━━━━━━━━━━━━━━\u001b[0m\u001b[37m\u001b[0m \u001b[1m102s\u001b[0m 1s/step - accuracy: 0.9893 - loss: 0.0575 - val_accuracy: 0.9516 - val_loss: 0.3193\n",
            "Epoch 21/30\n",
            "\u001b[1m98/98\u001b[0m \u001b[32m━━━━━━━━━━━━━━━━━━━━\u001b[0m\u001b[37m\u001b[0m \u001b[1m140s\u001b[0m 1s/step - accuracy: 0.9886 - loss: 0.0629 - val_accuracy: 0.9573 - val_loss: 0.2200\n",
            "Epoch 22/30\n",
            "\u001b[1m98/98\u001b[0m \u001b[32m━━━━━━━━━━━━━━━━━━━━\u001b[0m\u001b[37m\u001b[0m \u001b[1m154s\u001b[0m 1s/step - accuracy: 0.9900 - loss: 0.0494 - val_accuracy: 0.9573 - val_loss: 0.2468\n",
            "Epoch 23/30\n",
            "\u001b[1m98/98\u001b[0m \u001b[32m━━━━━━━━━━━━━━━━━━━━\u001b[0m\u001b[37m\u001b[0m \u001b[1m99s\u001b[0m 1s/step - accuracy: 0.9886 - loss: 0.0498 - val_accuracy: 0.9601 - val_loss: 0.2707\n",
            "Epoch 24/30\n",
            "\u001b[1m98/98\u001b[0m \u001b[32m━━━━━━━━━━━━━━━━━━━━\u001b[0m\u001b[37m\u001b[0m \u001b[1m118s\u001b[0m 1s/step - accuracy: 0.9889 - loss: 0.0508 - val_accuracy: 0.9601 - val_loss: 0.2496\n",
            "Epoch 25/30\n",
            "\u001b[1m98/98\u001b[0m \u001b[32m━━━━━━━━━━━━━━━━━━━━\u001b[0m\u001b[37m\u001b[0m \u001b[1m125s\u001b[0m 1s/step - accuracy: 0.9883 - loss: 0.0480 - val_accuracy: 0.9573 - val_loss: 0.2644\n",
            "Epoch 26/30\n",
            "\u001b[1m98/98\u001b[0m \u001b[32m━━━━━━━━━━━━━━━━━━━━\u001b[0m\u001b[37m\u001b[0m \u001b[1m141s\u001b[0m 1s/step - accuracy: 0.9886 - loss: 0.0435 - val_accuracy: 0.9573 - val_loss: 0.2924\n",
            "Epoch 27/30\n",
            "\u001b[1m98/98\u001b[0m \u001b[32m━━━━━━━━━━━━━━━━━━━━\u001b[0m\u001b[37m\u001b[0m \u001b[1m141s\u001b[0m 1s/step - accuracy: 0.9885 - loss: 0.0459 - val_accuracy: 0.9544 - val_loss: 0.2652\n",
            "Epoch 28/30\n",
            "\u001b[1m98/98\u001b[0m \u001b[32m━━━━━━━━━━━━━━━━━━━━\u001b[0m\u001b[37m\u001b[0m \u001b[1m154s\u001b[0m 1s/step - accuracy: 0.9895 - loss: 0.0422 - val_accuracy: 0.9630 - val_loss: 0.2859\n",
            "Epoch 29/30\n",
            "\u001b[1m98/98\u001b[0m \u001b[32m━━━━━━━━━━━━━━━━━━━━\u001b[0m\u001b[37m\u001b[0m \u001b[1m144s\u001b[0m 1s/step - accuracy: 0.9890 - loss: 0.0408 - val_accuracy: 0.9516 - val_loss: 0.2779\n",
            "Epoch 30/30\n",
            "\u001b[1m98/98\u001b[0m \u001b[32m━━━━━━━━━━━━━━━━━━━━\u001b[0m\u001b[37m\u001b[0m \u001b[1m138s\u001b[0m 1s/step - accuracy: 0.9898 - loss: 0.0428 - val_accuracy: 0.9573 - val_loss: 0.2799\n"
          ]
        }
      ],
      "source": [
        "cnn.compile(optimizer='adam', loss='categorical_crossentropy', metrics=['accuracy'])\n",
        "training_history=cnn.fit(x=training_set,validation_data=validation_set,epochs=30)"
      ]
    },
    {
      "cell_type": "code",
      "execution_count": null,
      "metadata": {
        "colab": {
          "base_uri": "https://localhost:8080/"
        },
        "id": "ThNUMZ6M3Vif",
        "outputId": "e9823572-3f51-4f60-e529-9612f3eae962"
      },
      "outputs": [
        {
          "name": "stderr",
          "output_type": "stream",
          "text": [
            "WARNING:absl:You are saving your model as an HDF5 file via `model.save()` or `keras.saving.save_model(model)`. This file format is considered legacy. We recommend using instead the native Keras format, e.g. `model.save('my_model.keras')` or `keras.saving.save_model(model, 'my_model.keras')`. \n"
          ]
        }
      ],
      "source": [
        "cnn.save(\"/content/drive/MyDrive/trained_model.h5\")\n",
        "with open(\"/content/drive/MyDrive/training_model.json\", \"w\") as f:\n",
        "    json.dump(training_history.history, f)\n"
      ]
    },
    {
      "cell_type": "code",
      "execution_count": null,
      "metadata": {
        "colab": {
          "base_uri": "https://localhost:8080/"
        },
        "id": "tC0l8A7VtdKc",
        "outputId": "0afc6525-5732-45e2-8b80-daa29fc9b3cd"
      },
      "outputs": [
        {
          "name": "stdout",
          "output_type": "stream",
          "text": [
            "{'accuracy': [0.10112359374761581, 0.3020866811275482, 0.5110754370689392, 0.6744783520698547, 0.8211877942085266, 0.8892455697059631, 0.9367576241493225, 0.9646869897842407, 0.9749598503112793, 0.9820224642753601, 0.9861958026885986, 0.9842696785926819, 0.9845907092094421, 0.9865168333053589, 0.9868378639221191, 0.9887640476226807, 0.9884430170059204, 0.9897271394729614, 0.9865168333053589, 0.9894061088562012, 0.9894061088562012, 0.9890850782394409, 0.9887640476226807, 0.9894061088562012, 0.9897271394729614, 0.9894061088562012, 0.9903692007064819, 0.9884430170059204, 0.9897271394729614, 0.9894061088562012], 'loss': [3.31567645072937, 2.426967144012451, 1.7711941003799438, 1.2377790212631226, 0.767221212387085, 0.48674413561820984, 0.3089860677719116, 0.1837271898984909, 0.1388976275920868, 0.11090771108865738, 0.0929863378405571, 0.07735782116651535, 0.08001422137022018, 0.07411490380764008, 0.07440342009067535, 0.06684351712465286, 0.06759300082921982, 0.06002133712172508, 0.06352147459983826, 0.05427604168653488, 0.060582637786865234, 0.051784686744213104, 0.04746844619512558, 0.049700796604156494, 0.0432267040014267, 0.0447712168097496, 0.03783676400780678, 0.048876360058784485, 0.04250780865550041, 0.04022302106022835], 'val_accuracy': [0.3076923191547394, 0.6467236280441284, 0.7606837749481201, 0.8717948794364929, 0.9287749528884888, 0.9487179517745972, 0.9572649598121643, 0.934472918510437, 0.9487179517745972, 0.9572649598121643, 0.9601139426231384, 0.9544159770011902, 0.9572649598121643, 0.9544159770011902, 0.9544159770011902, 0.9601139426231384, 0.9544159770011902, 0.9572649598121643, 0.9544159770011902, 0.9515669345855713, 0.9572649598121643, 0.9572649598121643, 0.9601139426231384, 0.9601139426231384, 0.9572649598121643, 0.9572649598121643, 0.9544159770011902, 0.9629629850387573, 0.9515669345855713, 0.9572649598121643], 'val_loss': [2.5454907417297363, 1.455116629600525, 1.0285037755966187, 0.5815486907958984, 0.4025443196296692, 0.3078199625015259, 0.27096882462501526, 0.28867238759994507, 0.22311969101428986, 0.2330741286277771, 0.23704595863819122, 0.24103309214115143, 0.27019330859184265, 0.23583094775676727, 0.27005305886268616, 0.2432025521993637, 0.28434833884239197, 0.25950753688812256, 0.2714896500110626, 0.3192920386791229, 0.22002889215946198, 0.24678489565849304, 0.27065372467041016, 0.2495531290769577, 0.26443567872047424, 0.2924472391605377, 0.2652069926261902, 0.2859262228012085, 0.277885764837265, 0.27990779280662537]}\n",
            "Validation set accuracy:95.72649598121643\n"
          ]
        }
      ],
      "source": [
        "\n",
        "print(training_history.history)\n",
        "print(f\"Validation set accuracy:{(training_history.history['val_accuracy'][-1]*100)}\")\n"
      ]
    },
    {
      "cell_type": "code",
      "execution_count": null,
      "metadata": {
        "colab": {
          "base_uri": "https://localhost:8080/"
        },
        "id": "DiniEKuPwgmD",
        "outputId": "23669fc4-5131-497b-ad7b-ff16fea88c3b"
      },
      "outputs": [
        {
          "name": "stderr",
          "output_type": "stream",
          "text": [
            "WARNING:absl:Compiled the loaded model, but the compiled metrics have yet to be built. `model.compile_metrics` will be empty until you train or evaluate the model.\n"
          ]
        }
      ],
      "source": [
        "cnn=tf.keras.models.load_model(\"/content/trained_model.h5\")"
      ]
    },
    {
      "cell_type": "code",
      "execution_count": null,
      "metadata": {
        "colab": {
          "base_uri": "https://localhost:8080/",
          "height": 472
        },
        "id": "krBXra66JyPb",
        "outputId": "8be0f8b4-86a9-4e32-e58a-3374e81c5e02"
      },
      "outputs": [
        {
          "data": {
            "image/png": "[encoded data removed]",
            "text/plain": [
              "<Figure size 640x480 with 1 Axes>"
            ]
          },
          "metadata": {},
          "output_type": "display_data"
        }
      ],
      "source": [
        "epochs = list(range(1, 31))\n",
        "plt.plot(epochs, training_history.history['accuracy'], color=\"red\", label=\"Training Accuracy\")\n",
        "plt.plot(epochs, training_history.history['val_accuracy'], color=\"blue\", label=\"Validation Accuracy\")\n",
        "plt.title(\"Model Accuracy\")\n",
        "plt.xlabel(\"Epoch\")\n",
        "plt.ylabel(\"Accuracy\")\n",
        "plt.legend()\n",
        "plt.grid(True)\n",
        "plt.show()\n"
      ]
    }
  ],
  "metadata": {
    "colab": {
      "provenance": []
    },
    "kernelspec": {
      "display_name": "Python 3",
      "name": "python3"
    },
    "language_info": {
      "name": "python"
    }
  },
  "nbformat": 4,
  "nbformat_minor": 0
}
